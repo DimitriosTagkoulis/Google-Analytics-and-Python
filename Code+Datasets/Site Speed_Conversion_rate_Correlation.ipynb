{
 "cells": [
  {
   "cell_type": "code",
   "execution_count": 1,
   "metadata": {},
   "outputs": [],
   "source": [
    "#libraries for data analysis\n",
    "import pandas as pd\n",
    "import numpy as np\n",
    "#libraries for normality tests\n",
    "from scipy.stats import shapiro\n",
    "from statsmodels.graphics.gofplots import qqplot\n",
    "from matplotlib import pyplot"
   ]
  },
  {
   "cell_type": "code",
   "execution_count": 2,
   "metadata": {},
   "outputs": [],
   "source": [
    "#import the User Datasets\n",
    "xls1 = pd.ExcelFile('Conversion_Rate_2019.xlsx')\n",
    "xls2 = pd.ExcelFile('Site_Speed_2019.xlsx')\n",
    "Conversion_Rate = pd.read_excel(xls1, 'Dataset1')\n",
    "Avg_Load_Time = pd.read_excel(xls2, 'Dataset2')"
   ]
  },
  {
   "cell_type": "code",
   "execution_count": 3,
   "metadata": {},
   "outputs": [],
   "source": [
    "#Remove the dates for ease\n",
    "Conversion_Rate=Conversion_Rate['E-commerce Conversion Rate']\n",
    "Avg_Load_Time=Avg_Load_Time['Avg. Page Load Time (sec)']"
   ]
  },
  {
   "cell_type": "code",
   "execution_count": 4,
   "metadata": {},
   "outputs": [],
   "source": [
    "#convert datasets into arrays\n",
    "Conversion_Rate = Conversion_Rate.values\n",
    "Avg_Load_Time = Avg_Load_Time.values"
   ]
  },
  {
   "cell_type": "code",
   "execution_count": 5,
   "metadata": {},
   "outputs": [
    {
     "data": {
      "image/png": "[encoded data removed]",
      "text/plain": [
       "<Figure size 432x288 with 1 Axes>"
      ]
     },
     "metadata": {
      "needs_background": "light"
     },
     "output_type": "display_data"
    }
   ],
   "source": [
    "#plot both datasets using qqplot to check for normality\n",
    "qqplot(Conversion_Rate, line='s')\n",
    "pyplot.show()"
   ]
  },
  {
   "cell_type": "code",
   "execution_count": 6,
   "metadata": {},
   "outputs": [
    {
     "data": {
      "image/png": "[encoded data removed]",
      "text/plain": [
       "<Figure size 432x288 with 1 Axes>"
      ]
     },
     "metadata": {
      "needs_background": "light"
     },
     "output_type": "display_data"
    }
   ],
   "source": [
    "qqplot(Avg_Load_Time, line='s')\n",
    "pyplot.show()"
   ]
  },
  {
   "cell_type": "markdown",
   "metadata": {},
   "source": [
    "### Both datasets look not normal since they fall off the qq plot"
   ]
  },
  {
   "cell_type": "code",
   "execution_count": 7,
   "metadata": {},
   "outputs": [
    {
     "name": "stdout",
     "output_type": "stream",
     "text": [
      "Statistics=0.943, p=0.001\n",
      "Sample does not look Gaussian (reject H0)\n"
     ]
    }
   ],
   "source": [
    "# normality test with Shapiro\n",
    "stat, p = shapiro(Conversion_Rate)\n",
    "print('Statistics=%.3f, p=%.3f' % (stat, p))\n",
    "# interpret\n",
    "alpha = 0.05\n",
    "if p > alpha:\n",
    "\tprint('Sample looks Gaussian (fail to reject H0)')\n",
    "else:\n",
    "\tprint('Sample does not look Gaussian (reject H0)')"
   ]
  },
  {
   "cell_type": "code",
   "execution_count": 8,
   "metadata": {},
   "outputs": [
    {
     "name": "stdout",
     "output_type": "stream",
     "text": [
      "Statistics=0.824, p=0.000\n",
      "Sample does not look Gaussian (reject H0)\n"
     ]
    }
   ],
   "source": [
    "stat, p = shapiro(Avg_Load_Time)\n",
    "print('Statistics=%.3f, p=%.3f' % (stat, p))\n",
    "# interpret\n",
    "alpha = 0.05\n",
    "if p > alpha:\n",
    "\tprint('Sample looks Gaussian (fail to reject H0)')\n",
    "else:\n",
    "\tprint('Sample does not look Gaussian (reject H0)')"
   ]
  },
  {
   "cell_type": "markdown",
   "metadata": {},
   "source": [
    "### Since both datasets are not normaly distributed non-parametric tests should be used."
   ]
  },
  {
   "cell_type": "code",
   "execution_count": 9,
   "metadata": {},
   "outputs": [],
   "source": [
    "#import Spearman rank correlation:\n",
    "#A non-parametric test that is used to measure the degree of association between two variables.\n",
    "from scipy.stats import stats"
   ]
  },
  {
   "cell_type": "code",
   "execution_count": 10,
   "metadata": {},
   "outputs": [
    {
     "name": "stdout",
     "output_type": "stream",
     "text": [
      "Statistics=-0.027, p=0.798\n",
      "The correlation observed is not significant (fail to reject H0)\n",
      "The two datasets are negatively corelated (as Avg Load Time Increases, Conversion Rate Decreases)\n"
     ]
    }
   ],
   "source": [
    "stat, p = stats.spearmanr(Avg_Load_Time,Conversion_Rate)\n",
    "print('Statistics=%.3f, p=%.3f' % (stat, p))\n",
    "# interpret\n",
    "alpha = 0.05\n",
    "\n",
    "if p > alpha:\n",
    "\tprint('The correlation observed is not significant (fail to reject H0)')\n",
    "else:\n",
    "\tprint('The correlation observed is significant (reject H0)')\n",
    "\n",
    "if stat > 0:\n",
    "\tprint('The two datasets are positively corelated (as Avg Load Time Increases, Conversion Rate Increases)')\n",
    "elif stat < 0:\n",
    "\tprint('The two datasets are negatively corelated (as Avg Load Time Increases, Conversion Rate Decreases)')\n",
    "else:\n",
    "    print('The two datasets are not corelated')"
   ]
  },
  {
   "cell_type": "markdown",
   "metadata": {},
   "source": [
    "## We conclude that the two datasets are Negatively corelated and the correlation observed is not significant"
   ]
  }
 ],
 "metadata": {
  "kernelspec": {
   "display_name": "Python 3",
   "language": "python",
   "name": "python3"
  },
  "language_info": {
   "codemirror_mode": {
    "name": "ipython",
    "version": 3
   },
   "file_extension": ".py",
   "mimetype": "text/x-python",
   "name": "python",
   "nbconvert_exporter": "python",
   "pygments_lexer": "ipython3",
   "version": "3.7.3"
  }
 },
 "nbformat": 4,
 "nbformat_minor": 2
}
