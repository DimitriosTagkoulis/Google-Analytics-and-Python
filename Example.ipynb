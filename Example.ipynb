{
 "cells": [
  {
   "cell_type": "code",
   "execution_count": 1,
   "metadata": {},
   "outputs": [],
   "source": [
    "# Module Import\n",
    "from Functions import *"
   ]
  },
  {
   "cell_type": "markdown",
   "metadata": {},
   "source": [
    "# Brief Intro"
   ]
  },
  {
   "cell_type": "markdown",
   "metadata": {},
   "source": [
    "## Normality tests"
   ]
  },
  {
   "cell_type": "markdown",
   "metadata": {},
   "source": [
    "Normality tests should be conducted for all series that are introduced to the tests to establish if the proper testing methods are parametric or non parametric. The first test is heuristic with visualizing the dataset with a QQ plot and the second one is a shapiro test. If either method indicates any series are not normally distributed then non parametric methods are selected."
   ]
  },
  {
   "cell_type": "markdown",
   "metadata": {},
   "source": [
    "## Parametric methods"
   ]
  },
  {
   "cell_type": "markdown",
   "metadata": {},
   "source": [
    "### Pearson r correlation: \n",
    "The most widely used correlation statistic used to measure the degree of the relationship between two linearly related\n",
    "variables.\n",
    "Note: For the Pearson r correlation, both variables should be normally distributed (normally distributed variables have\n",
    "a bell-shaped curve)."
   ]
  },
  {
   "cell_type": "markdown",
   "metadata": {},
   "source": [
    "### Two sample t-test: \n",
    "To test for differences between two groups of users\n",
    "(e.g. males vs females). The t-test can be used to determine if the means of\n",
    "two sets of data are significantly different from each other."
   ]
  },
  {
   "cell_type": "markdown",
   "metadata": {},
   "source": [
    "### One way analysis of variance (ANOVA) test: \n",
    "A technique that can be used to compare means of two or more samples. \n",
    "Typically, however, the oneway ANOVA is used to test for differences among at least three groups,\n",
    "since the two-group case can be covered by a t-test."
   ]
  },
  {
   "cell_type": "markdown",
   "metadata": {},
   "source": [
    "## Non parametric methods"
   ]
  },
  {
   "cell_type": "markdown",
   "metadata": {},
   "source": [
    "### Spearman rank correlation: \n",
    "A non-parametric test that is used to measure the degree of association between two variables.\n",
    "Note: The Spearman rank correlation test (vs to Pearson) does not carry any\n",
    "assumptions about the distribution of the data"
   ]
  },
  {
   "cell_type": "markdown",
   "metadata": {},
   "source": [
    "### Wilcoxon-Mann-Whitney (WMW) rank sum test: \n",
    "Non parametric method to test\n",
    "for differences between two groups of users (e.g. males vs females)."
   ]
  },
  {
   "cell_type": "markdown",
   "metadata": {},
   "source": [
    "### Kruskal–Wallis test: \n",
    "Non parametric method for testing whether samples\n",
    "originate from the same distribution. Kruskal-Wallis can accommodate more\n",
    "than two groups, extending Wilcoxon-Mann-Whitney. The parametric equivalent\n",
    "of the Kruskal–Wallis test is the one-way analysis of variance (ANOVA)."
   ]
  },
  {
   "cell_type": "markdown",
   "metadata": {},
   "source": [
    "# Examples"
   ]
  },
  {
   "cell_type": "markdown",
   "metadata": {},
   "source": [
    "### Example workflow for difference in means"
   ]
  },
  {
   "cell_type": "code",
   "execution_count": 2,
   "metadata": {},
   "outputs": [
    {
     "name": "stderr",
     "output_type": "stream",
     "text": [
      "c:\\Users\\dimta\\Anaconda3\\envs\\Pycaret\\lib\\site-packages\\openpyxl\\styles\\stylesheet.py:226: UserWarning: Workbook contains no default style, apply openpyxl's default\n",
      "  warn(\"Workbook contains no default style, apply openpyxl's default\")\n"
     ]
    }
   ],
   "source": [
    "#import the Bounce Rate Datasets\n",
    "xls1 = pd.ExcelFile('Data/Bounce_Rate_2018.xlsx')\n",
    "xls2 = pd.ExcelFile('Data/Bounce_Rate_2019.xlsx')\n",
    "Bounce_Rate_2018 = pd.read_excel(xls1, 'Dataset1')['Bounce Rate']\n",
    "Bounce_Rate_2019 = pd.read_excel(xls2, 'Dataset1')['Bounce Rate']"
   ]
  },
  {
   "cell_type": "code",
   "execution_count": 3,
   "metadata": {},
   "outputs": [],
   "source": [
    "#Make a Series Object for each variable\n",
    "Bounce_Rate_2018.rename({\"Bounce Rate\" :'Bounce Rate 2018'},inplace=True)\n",
    "Bounce_Rate_2019.rename({\"Bounce Rate\" :'Bounce Rate 2019'},inplace=True)"
   ]
  },
  {
   "cell_type": "code",
   "execution_count": 4,
   "metadata": {},
   "outputs": [
    {
     "name": "stdout",
     "output_type": "stream",
     "text": [
      "\n",
      "Shapiro Test Statistics=0.988, p=0.593\n",
      "Variable Bounce Rate looks Gaussian (fail to reject H0)\n",
      "\n",
      "Shapiro Test Statistics=0.968, p=0.023\n",
      "Variable Bounce Rate does not look Gaussian (reject H0)\n",
      "Statistics=14.142, p=0.000\n",
      "Bounce Rate  mean is bigger than that of  Bounce Rate\n",
      "The difference between the datasets is significant (reject H0)\n"
     ]
    }
   ],
   "source": [
    "means_test(Bounce_Rate_2018, Bounce_Rate_2019)"
   ]
  },
  {
   "cell_type": "code",
   "execution_count": 5,
   "metadata": {},
   "outputs": [
    {
     "name": "stdout",
     "output_type": "stream",
     "text": [
      "\n",
      "Shapiro Test Statistics=0.988, p=0.593\n",
      "Variable Bounce Rate looks Gaussian (fail to reject H0)\n",
      "\n",
      "Shapiro Test Statistics=0.968, p=0.023\n",
      "Variable Bounce Rate does not look Gaussian (reject H0)\n",
      "Statistics=-0.184, p=0.081\n",
      "The two datasets are not corelated\n"
     ]
    },
    {
     "data": {
      "text/plain": [
       "(-0.18383289657199248, 0.0811049728206936)"
      ]
     },
     "execution_count": 5,
     "metadata": {},
     "output_type": "execute_result"
    }
   ],
   "source": [
    "correlation_test(Bounce_Rate_2018,Bounce_Rate_2019)"
   ]
  },
  {
   "cell_type": "code",
   "execution_count": 6,
   "metadata": {},
   "outputs": [
    {
     "name": "stdout",
     "output_type": "stream",
     "text": [
      "\n",
      "Shapiro Test Statistics=0.988, p=0.593\n",
      "Variable Bounce Rate looks Gaussian (fail to reject H0)\n"
     ]
    }
   ],
   "source": [
    "normality_test(Bounce_Rate_2018)"
   ]
  },
  {
   "cell_type": "code",
   "execution_count": 7,
   "metadata": {},
   "outputs": [],
   "source": [
    "#import the User Datasets and convert to Series\n",
    "xls = pd.ExcelFile('Data/Channel_Sessions.xlsx')\n",
    "Organic_Search = pd.read_excel(xls, 'Organic Search').rename(columns={\"Sessions\" :'Organic Search'}).drop('Day Index', axis=1).squeeze()\n",
    "Direct = pd.read_excel(xls, 'Direct').rename(columns={\"Sessions\" :'Direct'}).drop('Day Index', axis=1).squeeze()\n",
    "Referral = pd.read_excel(xls, 'Referral').rename({\"Sessions\" :'Referral'}).drop('Day Index', axis=1).squeeze()\n",
    "Social = pd.read_excel(xls, 'Social').rename(columns={\"Sessions\" :'Social'}).drop('Day Index', axis=1).squeeze()\n",
    "Affiliates = pd.read_excel(xls, 'Affiliates').rename(columns={\"Sessions\" :'Affiliates'}).drop('Day Index', axis=1).squeeze()\n",
    "Paid_Search = pd.read_excel(xls, 'Paid Search').rename(columns={\"Sessions\" :'Paid Search'}).drop('Day Index', axis=1).squeeze()"
   ]
  },
  {
   "cell_type": "code",
   "execution_count": 8,
   "metadata": {},
   "outputs": [],
   "source": [
    "# Create a dict of means and names\n",
    "means_dict = {\"Organic_Search\" :Organic_Search, \"Direct\":Direct, \"Referral\":Referral, \"Social\":Social, \"Affiliates\":Affiliates, \"Paid_Search\": Paid_Search}"
   ]
  },
  {
   "cell_type": "code",
   "execution_count": 9,
   "metadata": {},
   "outputs": [
    {
     "name": "stdout",
     "output_type": "stream",
     "text": [
      "\n",
      "Shapiro Test Statistics=0.095, p=0.000\n",
      "Variable Organic Search does not look Gaussian (reject H0)\n",
      " \n",
      "\n",
      "Shapiro Test Statistics=0.095, p=0.000\n",
      "Variable Direct does not look Gaussian (reject H0)\n",
      " \n",
      "\n",
      "Shapiro Test Statistics=0.102, p=0.000\n",
      "Variable Sessions does not look Gaussian (reject H0)\n",
      " \n",
      "\n",
      "Shapiro Test Statistics=0.095, p=0.000\n",
      "Variable Social does not look Gaussian (reject H0)\n",
      " \n",
      "\n",
      "Shapiro Test Statistics=0.108, p=0.000\n",
      "Variable Affiliates does not look Gaussian (reject H0)\n",
      " \n",
      "\n",
      "Shapiro Test Statistics=0.123, p=0.000\n",
      "Variable Paid Search does not look Gaussian (reject H0)\n",
      " \n",
      "The difference between the datasets is significant (reject H0)\n",
      "Making Pairwise tests:\n",
      "Pair:  ('Organic_Search', 'Direct')\n",
      "\n",
      "Shapiro Test Statistics=0.095, p=0.000\n",
      "Variable Organic Search does not look Gaussian (reject H0)\n",
      "\n",
      "Shapiro Test Statistics=0.095, p=0.000\n",
      "Variable Direct does not look Gaussian (reject H0)\n",
      "Statistics=11.384, p=0.000\n",
      "Organic Search  mean is bigger than that of  Direct\n",
      "The difference between the datasets is significant (reject H0)\n",
      "Pair:  ('Organic_Search', 'Referral')\n",
      "\n",
      "Shapiro Test Statistics=0.095, p=0.000\n",
      "Variable Organic Search does not look Gaussian (reject H0)\n",
      "\n",
      "Shapiro Test Statistics=0.102, p=0.000\n",
      "Variable Sessions does not look Gaussian (reject H0)\n",
      "Statistics=11.395, p=0.000\n",
      "Organic Search  mean is bigger than that of  Sessions\n",
      "The difference between the datasets is significant (reject H0)\n",
      "Pair:  ('Organic_Search', 'Social')\n",
      "\n",
      "Shapiro Test Statistics=0.095, p=0.000\n",
      "Variable Organic Search does not look Gaussian (reject H0)\n",
      "\n",
      "Shapiro Test Statistics=0.095, p=0.000\n",
      "Variable Social does not look Gaussian (reject H0)\n",
      "Statistics=11.398, p=0.000\n",
      "Organic Search  mean is bigger than that of  Social\n",
      "The difference between the datasets is significant (reject H0)\n",
      "Pair:  ('Organic_Search', 'Affiliates')\n",
      "\n",
      "Shapiro Test Statistics=0.095, p=0.000\n",
      "Variable Organic Search does not look Gaussian (reject H0)\n",
      "\n",
      "Shapiro Test Statistics=0.108, p=0.000\n",
      "Variable Affiliates does not look Gaussian (reject H0)\n",
      "Statistics=11.398, p=0.000\n",
      "Organic Search  mean is bigger than that of  Affiliates\n",
      "The difference between the datasets is significant (reject H0)\n",
      "Pair:  ('Organic_Search', 'Paid_Search')\n",
      "\n",
      "Shapiro Test Statistics=0.095, p=0.000\n",
      "Variable Organic Search does not look Gaussian (reject H0)\n",
      "\n",
      "Shapiro Test Statistics=0.123, p=0.000\n",
      "Variable Paid Search does not look Gaussian (reject H0)\n",
      "Statistics=11.398, p=0.000\n",
      "Organic Search  mean is bigger than that of  Paid Search\n",
      "The difference between the datasets is significant (reject H0)\n",
      "Pair:  ('Direct', 'Referral')\n",
      "\n",
      "Shapiro Test Statistics=0.095, p=0.000\n",
      "Variable Direct does not look Gaussian (reject H0)\n",
      "\n",
      "Shapiro Test Statistics=0.102, p=0.000\n",
      "Variable Sessions does not look Gaussian (reject H0)\n",
      "Statistics=0.635, p=0.526\n",
      "Direct  mean is bigger than that of  Sessions\n",
      "The difference between the datasets is not significant (fail to reject H0)\n",
      "Pair:  ('Direct', 'Social')\n",
      "\n",
      "Shapiro Test Statistics=0.095, p=0.000\n",
      "Variable Direct does not look Gaussian (reject H0)\n",
      "\n",
      "Shapiro Test Statistics=0.095, p=0.000\n",
      "Variable Social does not look Gaussian (reject H0)\n",
      "Statistics=11.398, p=0.000\n",
      "Direct  mean is bigger than that of  Social\n",
      "The difference between the datasets is significant (reject H0)\n",
      "Pair:  ('Direct', 'Affiliates')\n",
      "\n",
      "Shapiro Test Statistics=0.095, p=0.000\n",
      "Variable Direct does not look Gaussian (reject H0)\n",
      "\n",
      "Shapiro Test Statistics=0.108, p=0.000\n",
      "Variable Affiliates does not look Gaussian (reject H0)\n",
      "Statistics=11.398, p=0.000\n",
      "Direct  mean is bigger than that of  Affiliates\n",
      "The difference between the datasets is significant (reject H0)\n",
      "Pair:  ('Direct', 'Paid_Search')\n",
      "\n",
      "Shapiro Test Statistics=0.095, p=0.000\n",
      "Variable Direct does not look Gaussian (reject H0)\n",
      "\n",
      "Shapiro Test Statistics=0.123, p=0.000\n",
      "Variable Paid Search does not look Gaussian (reject H0)\n",
      "Statistics=11.322, p=0.000\n",
      "Direct  mean is bigger than that of  Paid Search\n",
      "The difference between the datasets is significant (reject H0)\n",
      "Pair:  ('Referral', 'Social')\n",
      "\n",
      "Shapiro Test Statistics=0.102, p=0.000\n",
      "Variable Sessions does not look Gaussian (reject H0)\n",
      "\n",
      "Shapiro Test Statistics=0.095, p=0.000\n",
      "Variable Social does not look Gaussian (reject H0)\n",
      "Statistics=11.233, p=0.000\n",
      "Sessions  mean is bigger than that of  Social\n",
      "The difference between the datasets is significant (reject H0)\n",
      "Pair:  ('Referral', 'Affiliates')\n",
      "\n",
      "Shapiro Test Statistics=0.102, p=0.000\n",
      "Variable Sessions does not look Gaussian (reject H0)\n",
      "\n",
      "Shapiro Test Statistics=0.108, p=0.000\n",
      "Variable Affiliates does not look Gaussian (reject H0)\n",
      "Statistics=11.200, p=0.000\n",
      "Sessions  mean is bigger than that of  Affiliates\n",
      "The difference between the datasets is significant (reject H0)\n",
      "Pair:  ('Referral', 'Paid_Search')\n",
      "\n",
      "Shapiro Test Statistics=0.102, p=0.000\n",
      "Variable Sessions does not look Gaussian (reject H0)\n",
      "\n",
      "Shapiro Test Statistics=0.123, p=0.000\n",
      "Variable Paid Search does not look Gaussian (reject H0)\n",
      "Statistics=10.818, p=0.000\n",
      "Sessions  mean is bigger than that of  Paid Search\n",
      "The difference between the datasets is significant (reject H0)\n",
      "Pair:  ('Social', 'Affiliates')\n",
      "\n",
      "Shapiro Test Statistics=0.095, p=0.000\n",
      "Variable Social does not look Gaussian (reject H0)\n",
      "\n",
      "Shapiro Test Statistics=0.108, p=0.000\n",
      "Variable Affiliates does not look Gaussian (reject H0)\n",
      "Statistics=3.411, p=0.001\n",
      "Social  mean is bigger than that of  Affiliates\n",
      "The difference between the datasets is significant (reject H0)\n",
      "Pair:  ('Social', 'Paid_Search')\n",
      "\n",
      "Shapiro Test Statistics=0.095, p=0.000\n",
      "Variable Social does not look Gaussian (reject H0)\n",
      "\n",
      "Shapiro Test Statistics=0.123, p=0.000\n",
      "Variable Paid Search does not look Gaussian (reject H0)\n",
      "Statistics=-0.888, p=0.375\n",
      "Paid Search  mean is bigger than that of  Social\n",
      "The difference between the datasets is not significant (fail to reject H0)\n",
      "Pair:  ('Affiliates', 'Paid_Search')\n",
      "\n",
      "Shapiro Test Statistics=0.108, p=0.000\n",
      "Variable Affiliates does not look Gaussian (reject H0)\n",
      "\n",
      "Shapiro Test Statistics=0.123, p=0.000\n",
      "Variable Paid Search does not look Gaussian (reject H0)\n",
      "Statistics=-1.363, p=0.173\n",
      "Paid Search  mean is bigger than that of  Affiliates\n",
      "The difference between the datasets is not significant (fail to reject H0)\n"
     ]
    }
   ],
   "source": [
    "multiple_means_test(means_dict)"
   ]
  },
  {
   "cell_type": "code",
   "execution_count": null,
   "metadata": {},
   "outputs": [],
   "source": []
  }
 ],
 "metadata": {
  "kernelspec": {
   "display_name": "Python 3.8.12 ('Pycaret')",
   "language": "python",
   "name": "python3"
  },
  "language_info": {
   "codemirror_mode": {
    "name": "ipython",
    "version": 3
   },
   "file_extension": ".py",
   "mimetype": "text/x-python",
   "name": "python",
   "nbconvert_exporter": "python",
   "pygments_lexer": "ipython3",
   "version": "3.8.12"
  },
  "vscode": {
   "interpreter": {
    "hash": "5f2c88819338b376186ae8f6f786a4d02c1a19fd1ceddc977c3058c1fa88f1a6"
   }
  }
 },
 "nbformat": 4,
 "nbformat_minor": 2
}
