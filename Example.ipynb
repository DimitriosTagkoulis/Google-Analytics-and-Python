{
 "cells": [
  {
   "cell_type": "code",
   "execution_count": 1,
   "metadata": {},
   "outputs": [],
   "source": [
    "# Module Import\n",
    "import Functions"
   ]
  },
  {
   "cell_type": "markdown",
   "metadata": {},
   "source": [
    "# Brief Intro"
   ]
  },
  {
   "cell_type": "markdown",
   "metadata": {},
   "source": [
    "## Normality tests"
   ]
  },
  {
   "cell_type": "markdown",
   "metadata": {},
   "source": [
    "Normality tests should be conducted for all series that are introduced to the tests to establish if the proper testing methods are parametric or non parametric. The first test is heuristic with visualizing the dataset with a QQ plot and the second one is a shapiro test. If either method indicates any series are not normally distributed then non parametric methods are selected."
   ]
  },
  {
   "cell_type": "markdown",
   "metadata": {},
   "source": [
    "## Parametric methods"
   ]
  },
  {
   "cell_type": "markdown",
   "metadata": {},
   "source": [
    "### Pearson r correlation: \n",
    "The most widely used correlation statistic used to measure the degree of the relationship between two linearly related\n",
    "variables.\n",
    "Note: For the Pearson r correlation, both variables should be normally distributed (normally distributed variables have\n",
    "a bell-shaped curve)."
   ]
  },
  {
   "cell_type": "markdown",
   "metadata": {},
   "source": [
    "### Two sample t-test: \n",
    "To test for differences between two groups of users\n",
    "(e.g. males vs females). The t-test can be used to determine if the means of\n",
    "two sets of data are significantly different from each other."
   ]
  },
  {
   "cell_type": "markdown",
   "metadata": {},
   "source": [
    "### One way analysis of variance (ANOVA) test: \n",
    "A technique that can be used to compare means of two or more samples. \n",
    "Typically, however, the oneway ANOVA is used to test for differences among at least three groups,\n",
    "since the two-group case can be covered by a t-test."
   ]
  },
  {
   "cell_type": "markdown",
   "metadata": {},
   "source": [
    "## Non parametric methods"
   ]
  },
  {
   "cell_type": "markdown",
   "metadata": {},
   "source": [
    "### Spearman rank correlation: \n",
    "A non-parametric test that is used to measure the degree of association between two variables.\n",
    "Note: The Spearman rank correlation test (vs to Pearson) does not carry any\n",
    "assumptions about the distribution of the data"
   ]
  },
  {
   "cell_type": "markdown",
   "metadata": {},
   "source": [
    "### Wilcoxon-Mann-Whitney (WMW) rank sum test: \n",
    "Non parametric method to test\n",
    "for differences between two groups of users (e.g. males vs females)."
   ]
  },
  {
   "cell_type": "markdown",
   "metadata": {},
   "source": [
    "### Kruskal–Wallis test: \n",
    "Non parametric method for testing whether samples\n",
    "originate from the same distribution. Kruskal-Wallis can accommodate more\n",
    "than two groups, extending Wilcoxon-Mann-Whitney. The parametric equivalent\n",
    "of the Kruskal–Wallis test is the one-way analysis of variance (ANOVA)."
   ]
  },
  {
   "cell_type": "markdown",
   "metadata": {},
   "source": [
    "# Examples"
   ]
  }
 ],
 "metadata": {
  "kernelspec": {
   "display_name": "Python 3.8.12 ('Pycaret')",
   "language": "python",
   "name": "python3"
  },
  "language_info": {
   "codemirror_mode": {
    "name": "ipython",
    "version": 3
   },
   "file_extension": ".py",
   "mimetype": "text/x-python",
   "name": "python",
   "nbconvert_exporter": "python",
   "pygments_lexer": "ipython3",
   "version": "3.8.12"
  },
  "vscode": {
   "interpreter": {
    "hash": "5f2c88819338b376186ae8f6f786a4d02c1a19fd1ceddc977c3058c1fa88f1a6"
   }
  }
 },
 "nbformat": 4,
 "nbformat_minor": 2
}
